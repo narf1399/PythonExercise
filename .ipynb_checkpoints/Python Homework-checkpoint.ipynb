{
 "cells": [
  {
   "cell_type": "markdown",
   "metadata": {},
   "source": [
    "Basic Exercises"
   ]
  },
  {
   "cell_type": "code",
   "execution_count": 1,
   "metadata": {
    "collapsed": false
   },
   "outputs": [
    {
     "name": "stdout",
     "output_type": "stream",
     "text": [
      "5\n"
     ]
    }
   ],
   "source": [
    "# Task 1: Convert integer to string and print it\n",
    "def intToString(n):\n",
    "    print str(n)\n",
    "    \n",
    "intToString(5)"
   ]
  },
  {
   "cell_type": "code",
   "execution_count": 2,
   "metadata": {
    "collapsed": false
   },
   "outputs": [
    {
     "name": "stdout",
     "output_type": "stream",
     "text": [
      "193\n"
     ]
    }
   ],
   "source": [
    "# Task 2: Convert string to int and calculate the sum\n",
    "def stringSum(a, b):\n",
    "    print int(a) + int(b)\n",
    "    \n",
    "stringSum(\"120\", '73')"
   ]
  },
  {
   "cell_type": "code",
   "execution_count": 3,
   "metadata": {
    "collapsed": false
   },
   "outputs": [
    {
     "name": "stdout",
     "output_type": "stream",
     "text": [
      "Hello world!\n"
     ]
    }
   ],
   "source": [
    "# Task 3: Concatenate two strings\n",
    "def concat(a, b):\n",
    "    print a + b\n",
    "    \n",
    "concat(\"Hello \", \"world!\")"
   ]
  },
  {
   "cell_type": "code",
   "execution_count": 5,
   "metadata": {
    "collapsed": false
   },
   "outputs": [
    {
     "name": "stdout",
     "output_type": "stream",
     "text": [
      "very long\n",
      "same \n",
      "size\n"
     ]
    }
   ],
   "source": [
    "# Task 4: Print string with maximum length\n",
    "def printMax(a, b):\n",
    "    if (len(a) > len(b)):\n",
    "        print a\n",
    "    elif (len(a) < len(b)):\n",
    "        print b\n",
    "    else:\n",
    "        print a, \"\\n\", b\n",
    "        \n",
    "printMax(\"short\", \"very long\")\n",
    "printMax(\"same\", \"size\")"
   ]
  },
  {
   "cell_type": "code",
   "execution_count": 6,
   "metadata": {
    "collapsed": false
   },
   "outputs": [
    {
     "name": "stdout",
     "output_type": "stream",
     "text": [
      "The number 2 is even.\n",
      "The number 17 is odd.\n"
     ]
    }
   ],
   "source": [
    "# Task 5: Print if number is odd or even\n",
    "def parity(n):\n",
    "    if (n%2 == 0):\n",
    "        print \"The number %d is even.\" % n\n",
    "    else:\n",
    "        print \"The number %d is odd.\" % n\n",
    "        \n",
    "parity(2)\n",
    "parity(17)"
   ]
  },
  {
   "cell_type": "code",
   "execution_count": 10,
   "metadata": {
    "collapsed": false
   },
   "outputs": [
    {
     "name": "stdout",
     "output_type": "stream",
     "text": [
      "Yes\n",
      "Yes\n",
      "Yes\n",
      "No\n"
     ]
    }
   ],
   "source": [
    "# Task 6: Identify different forms of yes (YES, yes, Yes)\n",
    "def isYes(string):\n",
    "    if (string == \"yes\" or string == \"YES\" or string == \"Yes\"):\n",
    "        print \"Yes\"\n",
    "    else:\n",
    "        print \"No\"\n",
    "        \n",
    "isYes(\"yes\")\n",
    "isYes(\"YES\")\n",
    "isYes(\"Yes\")\n",
    "isYes(\"Not yes\")"
   ]
  },
  {
   "cell_type": "code",
   "execution_count": 13,
   "metadata": {
    "collapsed": false
   },
   "outputs": [
    {
     "data": {
      "text/plain": [
       "[2, 4, 6, 8, 10]"
      ]
     },
     "execution_count": 13,
     "metadata": {},
     "output_type": "execute_result"
    }
   ],
   "source": [
    "# Task 7: Filter even numbers from a list\n",
    "def filterEven(myList):\n",
    "    return filter(lambda x : x % 2 == 0, myList)\n",
    "\n",
    "filterEven(range(1, 11))"
   ]
  },
  {
   "cell_type": "code",
   "execution_count": 14,
   "metadata": {
    "collapsed": false
   },
   "outputs": [
    {
     "data": {
      "text/plain": [
       "[1, 4, 9, 16, 25, 36, 49, 64, 81, 100]"
      ]
     },
     "execution_count": 14,
     "metadata": {},
     "output_type": "execute_result"
    }
   ],
   "source": [
    "# Task 8: Make square list\n",
    "def squareList(myList):\n",
    "    return map(lambda x : x*x, myList)\n",
    "\n",
    "squareList(range(1,11))"
   ]
  },
  {
   "cell_type": "code",
   "execution_count": 16,
   "metadata": {
    "collapsed": false
   },
   "outputs": [
    {
     "data": {
      "text/plain": [
       "[2, 4, 6, 8, 10, 12, 14, 16, 18, 20]"
      ]
     },
     "execution_count": 16,
     "metadata": {},
     "output_type": "execute_result"
    }
   ],
   "source": [
    "# Task 9: Make list of even numbers between 1 and 20 (inclusive)\n",
    "def makeEvenList():\n",
    "    return filter(lambda x : x % 2 == 0, range(1,21))\n",
    "\n",
    "makeEvenList()"
   ]
  },
  {
   "cell_type": "code",
   "execution_count": 20,
   "metadata": {
    "collapsed": false
   },
   "outputs": [
    {
     "data": {
      "text/plain": [
       "['bag', 'hello', 'without', 'world']"
      ]
     },
     "execution_count": 20,
     "metadata": {},
     "output_type": "execute_result"
    }
   ],
   "source": [
    "# Task 10: Sort string separated by commas\n",
    "def sortString(myString):\n",
    "    myString = myString.split(',')\n",
    "    myString.sort()\n",
    "    return myString\n",
    "\n",
    "sortString(\"without,hello,bag,world\")"
   ]
  },
  {
   "cell_type": "code",
   "execution_count": 31,
   "metadata": {
    "collapsed": false
   },
   "outputs": [
    {
     "name": "stdout",
     "output_type": "stream",
     "text": [
      "Enter your string: H1e2l3l4o5w6o7r8l9d\n",
      "Helloworld\n"
     ]
    }
   ],
   "source": [
    "# Task 11: Print only characters with an even index\n",
    "def printEven(myString):\n",
    "    output = \"\"\n",
    "    for char in range(0, len(myString), 2):\n",
    "        output = output + myString[char]\n",
    "    print output\n",
    "\n",
    "inputString = raw_input(\"Enter your string: \")\n",
    "printEven(inputString)"
   ]
  },
  {
   "cell_type": "markdown",
   "metadata": {},
   "source": [
    "Medium exercises"
   ]
  },
  {
   "cell_type": "code",
   "execution_count": 33,
   "metadata": {
    "collapsed": false
   },
   "outputs": [
    {
     "name": "stdout",
     "output_type": "stream",
     "text": [
      "HELLO WORLD\n"
     ]
    }
   ],
   "source": [
    "# Task 1: Capitalize words\n",
    "def capitalize(myString):\n",
    "    print myString.upper()\n",
    "    \n",
    "capitalize(\"Hello world\")"
   ]
  },
  {
   "cell_type": "code",
   "execution_count": 37,
   "metadata": {
    "collapsed": false
   },
   "outputs": [
    {
     "name": "stdout",
     "output_type": "stream",
     "text": [
      "and again practice perfect world makes hello\n"
     ]
    }
   ],
   "source": [
    "# Task 2: Sort words and delete duplicates\n",
    "def sortAndRemove(myString):\n",
    "    myString = myString.split()\n",
    "    myString = set(myString)\n",
    "    for x in myString:\n",
    "        print x,\n",
    "\n",
    "sortAndRemove(\"again and hello makes perfect practice world\")"
   ]
  },
  {
   "cell_type": "code",
   "execution_count": 44,
   "metadata": {
    "collapsed": false
   },
   "outputs": [
    {
     "name": "stdout",
     "output_type": "stream",
     "text": [
      "LETTERS 10\n",
      "DIGITS 3\n"
     ]
    }
   ],
   "source": [
    "# Task 3: Count letters and numbers in a string\n",
    "def count(myString):\n",
    "    letters = 0\n",
    "    numbers = 0\n",
    "    for x in myString:\n",
    "        if (x >= \"0\" and x <= \"9\"):\n",
    "            numbers += 1\n",
    "        elif ( (x >= \"A\" and x <= \"Z\") or (x >= \"a\" and x <= \"z\")):\n",
    "            letters += 1\n",
    "    print \"LETTERS %d\" % letters\n",
    "    print \"DIGITS %d\" % numbers\n",
    "        \n",
    "count(\"hello world! 123\")"
   ]
  },
  {
   "cell_type": "code",
   "execution_count": 47,
   "metadata": {
    "collapsed": false
   },
   "outputs": [
    {
     "name": "stdout",
     "output_type": "stream",
     "text": [
      "UPPER CASE 1 LOWER CASE 9\n"
     ]
    }
   ],
   "source": [
    "# Task 4: Count number of uppercase and lowercase letters\n",
    "def count(myString):\n",
    "    upper = 0\n",
    "    lower = 0\n",
    "    for x in myString:\n",
    "        if (x.isupper()):\n",
    "            upper += 1\n",
    "        elif (x.islower()):\n",
    "            lower += 1\n",
    "    print \"UPPER CASE %d LOWER CASE %d\" % (upper, lower)\n",
    "    \n",
    "count(\"Hello world!\")"
   ]
  },
  {
   "cell_type": "code",
   "execution_count": 110,
   "metadata": {
    "collapsed": false
   },
   "outputs": [
    {
     "name": "stdout",
     "output_type": "stream",
     "text": [
      "93.9696429595\n"
     ]
    }
   ],
   "source": [
    "# Task 5: Generate random float between min and max\n",
    "import random\n",
    "\n",
    "def randomFloat(min, max):\n",
    "    return random.random()*(max-min) + min\n",
    "\n",
    "print randomFloat(10, 100)"
   ]
  },
  {
   "cell_type": "code",
   "execution_count": 113,
   "metadata": {
    "collapsed": false
   },
   "outputs": [
    {
     "data": {
      "text/plain": [
       "5.9604644775390625e-06"
      ]
     },
     "execution_count": 113,
     "metadata": {},
     "output_type": "execute_result"
    }
   ],
   "source": [
    "# Task 6: Print running time of a simple program\n",
    "import timeit\n",
    "\n",
    "timeit.timeit('1+1', number = 100)"
   ]
  },
  {
   "cell_type": "markdown",
   "metadata": {},
   "source": [
    "Exercises with classes"
   ]
  },
  {
   "cell_type": "code",
   "execution_count": 115,
   "metadata": {
    "collapsed": false
   },
   "outputs": [
    {
     "name": "stdout",
     "output_type": "stream",
     "text": [
      "I'm an american\n",
      "I'm an american\n",
      "I live in New York\n"
     ]
    }
   ],
   "source": [
    "# Task 1: Define a class named American and a sub class named New Yorker\n",
    "\n",
    "class American:\n",
    "    \n",
    "    def myCountry(self):\n",
    "        print \"I'm an american\"\n",
    "        \n",
    "class NewYorker(American):\n",
    "    \n",
    "    def myCity(self):\n",
    "        print \"I live in New York\"\n",
    "\n",
    "myAmerican = American()\n",
    "myAmerican.myCountry()\n",
    "\n",
    "myNewYorker = NewYorker()\n",
    "myNewYorker.myCountry()\n",
    "myNewYorker.myCity()"
   ]
  },
  {
   "cell_type": "code",
   "execution_count": 120,
   "metadata": {
    "collapsed": false
   },
   "outputs": [
    {
     "data": {
      "text/plain": [
       "78.53981633974483"
      ]
     },
     "execution_count": 120,
     "metadata": {},
     "output_type": "execute_result"
    }
   ],
   "source": [
    "# Task 2: Define class for a circle with a method to compute the area\n",
    "import math\n",
    "\n",
    "class Circle:\n",
    "    \n",
    "    def __init__(self, radius):\n",
    "        self.radius = radius\n",
    "        \n",
    "    def getArea(self):\n",
    "        return math.pi * (self.radius ** 2)\n",
    "\n",
    "myCircle = Circle(5)\n",
    "myCircle.getArea()"
   ]
  },
  {
   "cell_type": "code",
   "execution_count": 121,
   "metadata": {
    "collapsed": false
   },
   "outputs": [
    {
     "data": {
      "text/plain": [
       "70"
      ]
     },
     "execution_count": 121,
     "metadata": {},
     "output_type": "execute_result"
    }
   ],
   "source": [
    "# Task 3: Define a class for a rectangle with a method to compute the area\n",
    "\n",
    "class Rectangle:\n",
    "    \n",
    "    def __init__(self, width, height):\n",
    "        self.width = width\n",
    "        self.height = height\n",
    "        \n",
    "    def getArea(self):\n",
    "        return self.width * self.height\n",
    "    \n",
    "\n",
    "myRectangle = Rectangle(10, 7)\n",
    "myRectangle.getArea()"
   ]
  },
  {
   "cell_type": "code",
   "execution_count": 125,
   "metadata": {
    "collapsed": false
   },
   "outputs": [
    {
     "name": "stdout",
     "output_type": "stream",
     "text": [
      "0\n",
      "16\n"
     ]
    }
   ],
   "source": [
    "# Task 4: Superclass shape with area 0, subclass square with area != 0\n",
    "\n",
    "class Shape:\n",
    "    \n",
    "    def getArea(self):\n",
    "        return 0\n",
    "    \n",
    "class Square(Shape):\n",
    "    \n",
    "    def __init__(self, length):\n",
    "        self.length = length\n",
    "        \n",
    "    def getArea(self):\n",
    "        return self.length ** 2\n",
    "    \n",
    "myShape = Shape()\n",
    "print myShape.getArea()\n",
    "\n",
    "mySquare = Square(4)\n",
    "print mySquare.getArea()"
   ]
  },
  {
   "cell_type": "code",
   "execution_count": 128,
   "metadata": {
    "collapsed": false
   },
   "outputs": [
    {
     "name": "stdout",
     "output_type": "stream",
     "text": [
      "male\n",
      "female\n"
     ]
    }
   ],
   "source": [
    "# Task 5: Superclass Person, subclasses Male and Female\n",
    "\n",
    "from abc import ABCMeta, abstractmethod\n",
    "\n",
    "class Person:\n",
    "    \n",
    "    __metaclass__ = ABCMeta\n",
    "    \n",
    "    @abstractmethod\n",
    "    def getGender(self):\n",
    "        pass\n",
    "    \n",
    "class Male(Person):\n",
    "    \n",
    "    def getGender(self):\n",
    "        print \"male\"\n",
    "        \n",
    "class Female(Person):\n",
    "    \n",
    "    def getGender(self):\n",
    "        print \"female\"\n",
    "        \n",
    "tom = Male()\n",
    "sarah = Female()\n",
    "tom.getGender()\n",
    "sarah.getGender()"
   ]
  },
  {
   "cell_type": "markdown",
   "metadata": {},
   "source": [
    "Hard exercises"
   ]
  },
  {
   "cell_type": "code",
   "execution_count": 136,
   "metadata": {
    "collapsed": false,
    "scrolled": true
   },
   "outputs": [
    {
     "name": "stdout",
     "output_type": "stream",
     "text": [
      "Please enter the name, age and score\n",
      "separated by spaces\n",
      "> John 20 90\n",
      "Do you want to enter more data? [y/n] y\n",
      "> Jony 17 91\n",
      "Do you want to enter more data? [y/n] y\n",
      "> Tom 19 80\n",
      "Do you want to enter more data? [y/n] y\n",
      "> Json 21 85\n",
      "Do you want to enter more data? [y/n] y\n",
      "> Jony 17 93\n",
      "Do you want to enter more data? [y/n] n\n"
     ]
    },
    {
     "data": {
      "text/plain": [
       "[['John', '20', '90'],\n",
       " ['Jony', '17', '91'],\n",
       " ['Jony', '17', '93'],\n",
       " ['Json', '21', '85'],\n",
       " ['Tom', '19', '80']]"
      ]
     },
     "execution_count": 136,
     "metadata": {},
     "output_type": "execute_result"
    }
   ],
   "source": [
    "# Task 1: Sort by multiple keys\n",
    "import operator\n",
    "\n",
    "def sortMultiple(myList):\n",
    "    myList.sort(key = operator.itemgetter(0,1,2))\n",
    "    return myList\n",
    "\n",
    "myList = []\n",
    "myChoice = \"y\"\n",
    "print \"Please enter the name, age and score\\nseparated by spaces\"\n",
    "while (myChoice == \"y\"):\n",
    "    myInput = raw_input(\"> \")\n",
    "    myInput = myInput.split()\n",
    "    myList.append(myInput)\n",
    "    myChoice = raw_input(\"Do you want to enter more data? [y/n] \")\n",
    "\n",
    "sortMultiple(myList)\n",
    "    "
   ]
  },
  {
   "cell_type": "code",
   "execution_count": 145,
   "metadata": {
    "collapsed": false
   },
   "outputs": [
    {
     "name": "stdout",
     "output_type": "stream",
     "text": [
      "Please enter your commands\n",
      "End with keyword end\n",
      "> UP 5\n",
      "> DOWN 3\n",
      "> LEFT 3\n",
      "> RIGHT 2\n",
      "> end\n",
      "Distance travelled 2\n"
     ]
    }
   ],
   "source": [
    "# Task 2: Measure distance a robot has moved\n",
    "import math\n",
    "\n",
    "def measureDistance(myCommands):\n",
    "    x = 0\n",
    "    y = 0\n",
    "    for command in myCommands:\n",
    "        command = command.split()\n",
    "        if (command[0] == \"UP\"):\n",
    "            y += int(command[1])\n",
    "        elif (command[0] == \"DOWN\"):\n",
    "            y -= int(command[1])\n",
    "        elif (command[0] == \"LEFT\"):\n",
    "            x -= int(command[1])\n",
    "        elif (command[0] == \"RIGHT\"):\n",
    "            x += int(command[1])\n",
    "    return int(round(math.sqrt(x ** 2 + y ** 2), 0))\n",
    "    \n",
    "print \"Please enter your commands\"\n",
    "print \"End with keyword end\"\n",
    "myCommands = []\n",
    "myInput = \"\"\n",
    "while (myInput != \"end\"):\n",
    "    myInput = raw_input(\"> \")\n",
    "    if (myInput != \"end\"):\n",
    "        myCommands.append(myInput)\n",
    "\n",
    "print \"Distance travelled\", measureDistance(myCommands)\n",
    "    "
   ]
  },
  {
   "cell_type": "code",
   "execution_count": 161,
   "metadata": {
    "collapsed": false
   },
   "outputs": [
    {
     "name": "stdout",
     "output_type": "stream",
     "text": [
      "2: 2\n",
      "3: 1\n",
      "3?: 1\n",
      "New: 1\n",
      "Python: 5\n",
      "Read: 1\n",
      "and: 2\n",
      "between: 1\n",
      "choosing: 1\n",
      "or: 1\n"
     ]
    }
   ],
   "source": [
    "# Task 3: Calculate the frequency of words\n",
    "def frequency(myString):\n",
    "    myString = myString.split()\n",
    "    myString.sort()\n",
    "    counter = 0\n",
    "    lastWord = myString[0]\n",
    "    for word in myString:\n",
    "        if (lastWord == word):\n",
    "            counter += 1\n",
    "        else:\n",
    "            print lastWord+\":\", counter\n",
    "            counter = 1\n",
    "        lastWord = word\n",
    "    \n",
    "frequency(\"New to Python or choosing between Python 2 and Python 3? Read Python 2 and Python 3\")\n",
    "    "
   ]
  }
 ],
 "metadata": {
  "kernelspec": {
   "display_name": "Python 2",
   "language": "python",
   "name": "python2"
  },
  "language_info": {
   "codemirror_mode": {
    "name": "ipython",
    "version": 2
   },
   "file_extension": ".py",
   "mimetype": "text/x-python",
   "name": "python",
   "nbconvert_exporter": "python",
   "pygments_lexer": "ipython2",
   "version": "2.7.11"
  }
 },
 "nbformat": 4,
 "nbformat_minor": 0
}
