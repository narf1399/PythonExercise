{
 "cells": [
  {
   "cell_type": "markdown",
   "metadata": {},
   "source": [
    "Solutions to the first python exercise sheet."
   ]
  },
  {
   "cell_type": "code",
   "execution_count": 5,
   "metadata": {
    "collapsed": false
   },
   "outputs": [
    {
     "name": "stdout",
     "output_type": "stream",
     "text": [
      "2002 , 2009 , 2016 , 2023 , 2037 , 2044 , 2051 , 2058 , 2072 , 2079 , 2086 , 2093 , 2107 , 2114 , 2121 , 2128 , 2142 , 2149 , 2156 , 2163 , 2177 , 2184 , 2191 , 2198 , 2212 , 2219 , 2226 , 2233 , 2247 , 2254 , 2261 , 2268 , 2282 , 2289 , 2296 , 2303 , 2317 , 2324 , 2331 , 2338 , 2352 , 2359 , 2366 , 2373 , 2387 , 2394 , 2401 , 2408 , 2422 , 2429 , 2436 , 2443 , 2457 , 2464 , 2471 , 2478 , 2492 , 2499 , 2506 , 2513 , 2527 , 2534 , 2541 , 2548 , 2562 , 2569 , 2576 , 2583 , 2597 , 2604 , 2611 , 2618 , 2632 , 2639 , 2646 , 2653 , 2667 , 2674 , 2681 , 2688 , 2702 , 2709 , 2716 , 2723 , 2737 , 2744 , 2751 , 2758 , 2772 , 2779 , 2786 , 2793 , 2807 , 2814 , 2821 , 2828 , 2842 , 2849 , 2856 , 2863 , 2877 , 2884 , 2891 , 2898 , 2912 , 2919 , 2926 , 2933 , 2947 , 2954 , 2961 , 2968 , 2982 , 2989 , 2996 , 3003 , 3017 , 3024 , 3031 , 3038 , 3052 , 3059 , 3066 , 3073 , 3087 , 3094 , 3101 , 3108 , 3122 , 3129 , 3136 , 3143 , 3157 , 3164 , 3171 , 3178 , 3192 , 3199 ,\n"
     ]
    }
   ],
   "source": [
    "# Print all numbers in a range that are divisible by 7 but not 5\n",
    "def printNumbers(min, max):\n",
    "    for x in range(min, max + 1):\n",
    "        if (x % 7 == 0 and x % 5 != 0):\n",
    "            print x,\",\",\n",
    "\n",
    "printNumbers(2000,3200)"
   ]
  },
  {
   "cell_type": "code",
   "execution_count": 8,
   "metadata": {
    "collapsed": false
   },
   "outputs": [
    {
     "name": "stdout",
     "output_type": "stream",
     "text": [
      "3628800\n"
     ]
    }
   ],
   "source": [
    "# Calculate the factorial\n",
    "def factorial(n):\n",
    "    fac = 1\n",
    "    for x in range(1,n+1):\n",
    "        fac *= x\n",
    "    return fac\n",
    "\n",
    "print factorial(10)"
   ]
  },
  {
   "cell_type": "code",
   "execution_count": 10,
   "metadata": {
    "collapsed": false
   },
   "outputs": [
    {
     "name": "stdout",
     "output_type": "stream",
     "text": [
      "{1: 1, 2: 4, 3: 9, 4: 16, 5: 25, 6: 36, 7: 49, 8: 64}\n"
     ]
    }
   ],
   "source": [
    "# Create a square dictionary\n",
    "def squareDict(n):\n",
    "    dictionary = {}\n",
    "    for x in range(1,n+1):\n",
    "        dictionary[x] = x*x\n",
    "    print dictionary\n",
    "\n",
    "squareDict(8)"
   ]
  },
  {
   "cell_type": "code",
   "execution_count": 11,
   "metadata": {
    "collapsed": false
   },
   "outputs": [
    {
     "name": "stdout",
     "output_type": "stream",
     "text": [
      "[[0, 0, 0], [0, 1, 2], [0, 2, 4]]\n"
     ]
    }
   ],
   "source": [
    "# Create matrix\n",
    "def matrix(a,b):\n",
    "    myMatrix = []\n",
    "    for i in range(0,a):\n",
    "        list = []\n",
    "        for j in range(0,b):\n",
    "            list.append(i*j)\n",
    "        myMatrix.append(list)\n",
    "    return myMatrix\n",
    "\n",
    "print matrix(3,3)\n",
    "    "
   ]
  },
  {
   "cell_type": "code",
   "execution_count": 19,
   "metadata": {
    "collapsed": false
   },
   "outputs": [
    {
     "name": "stdout",
     "output_type": "stream",
     "text": [
      "['bag', 'hello', 'without', 'world']\n"
     ]
    }
   ],
   "source": [
    "# Sort a string of words\n",
    "def sortString(myString):\n",
    "    myList = myString.split(',')\n",
    "    myList.sort()\n",
    "    print myList\n",
    "    \n",
    "sortString(\"bag,world,hello,without\")"
   ]
  },
  {
   "cell_type": "raw",
   "metadata": {},
   "source": []
  }
 ],
 "metadata": {
  "kernelspec": {
   "display_name": "Python 2",
   "language": "python",
   "name": "python2"
  },
  "language_info": {
   "codemirror_mode": {
    "name": "ipython",
    "version": 2
   },
   "file_extension": ".py",
   "mimetype": "text/x-python",
   "name": "python",
   "nbconvert_exporter": "python",
   "pygments_lexer": "ipython2",
   "version": "2.7.11"
  }
 },
 "nbformat": 4,
 "nbformat_minor": 0
}
