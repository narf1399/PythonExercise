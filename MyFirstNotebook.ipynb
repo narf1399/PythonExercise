{
 "cells": [
  {
   "cell_type": "code",
   "execution_count": 40,
   "metadata": {
    "collapsed": false
   },
   "outputs": [],
   "source": [
    "# Comment"
   ]
  },
  {
   "cell_type": "code",
   "execution_count": 46,
   "metadata": {
    "collapsed": false
   },
   "outputs": [
    {
     "name": "stdout",
     "output_type": "stream",
     "text": [
      "10 10 1.23\n",
      "<type 'int'>\n",
      "<type 'float'>\n"
     ]
    }
   ],
   "source": [
    "# Data types\n",
    "a = 10\n",
    "b = 10\n",
    "c = 1.23\n",
    "print a, b, c\n",
    "print type(b)\n",
    "print type(c)"
   ]
  },
  {
   "cell_type": "code",
   "execution_count": 48,
   "metadata": {
    "collapsed": false
   },
   "outputs": [
    {
     "name": "stdout",
     "output_type": "stream",
     "text": [
      "3\n",
      "4.01\n",
      "9.34\n"
     ]
    }
   ],
   "source": [
    "# Write a function to add two numbers\n",
    "# The function takes two values and returns the sum\n",
    "def sum(a, b):\n",
    "    return a + b\n",
    "\n",
    "print sum(1,2)\n",
    "print sum(1.34, 2.67)\n",
    "print sum(7, 2.34)"
   ]
  },
  {
   "cell_type": "code",
   "execution_count": 53,
   "metadata": {
    "collapsed": false
   },
   "outputs": [
    {
     "name": "stdout",
     "output_type": "stream",
     "text": [
      "None\n",
      "<type 'NoneType'>\n"
     ]
    }
   ],
   "source": [
    "name = \"Tim\"\n",
    "name = None\n",
    "print name\n",
    "print type(name)"
   ]
  },
  {
   "cell_type": "code",
   "execution_count": 90,
   "metadata": {
    "collapsed": false
   },
   "outputs": [
    {
     "name": "stdout",
     "output_type": "stream",
     "text": [
      "[0, 1, 'two', 3]\n",
      "<type 'list'>\n",
      "two\n",
      "[0, 1]\n",
      "[0, 1]\n",
      "['two', 3]\n",
      "[]\n",
      "length:  4\n",
      "[0, 1, 'two', 3, 'four']\n",
      "[0, 1, 'two', 3, 'four', 5, 6, 7, 'eight']\n",
      "[0, 1, 3, 5, 6, 7, 'eight', 'four', 'two']\n",
      "['new', 0, 1, 3, 5, 6, 7, 'eight', 'four', 'two']\n"
     ]
    }
   ],
   "source": [
    "##### List\n",
    "\n",
    "favourite = [0,1,\"two\",3]\n",
    "\n",
    "print favourite\n",
    "print type(favourite)\n",
    "print favourite[2]\n",
    "# Print just a part of the list (excluding the last index)\n",
    "print favourite[0:2]\n",
    "print favourite[:2]\n",
    "print favourite[2:]\n",
    "# Will not work (empty list in python2, error in python3)\n",
    "print favourite[2:1]\n",
    "print \"length: \", len(favourite)\n",
    "favourite.append(\"four\")\n",
    "print favourite\n",
    "favourite.extend([5,6,7,\"eight\"])\n",
    "print favourite\n",
    "# Type favourite. and tab\n",
    "favourite.sort()\n",
    "print favourite\n",
    "# Use ? after a command to see the help\n",
    "favourite.insert(0, 'new')\n",
    "print favourite"
   ]
  },
  {
   "cell_type": "code",
   "execution_count": 79,
   "metadata": {
    "collapsed": false
   },
   "outputs": [
    {
     "name": "stdout",
     "output_type": "stream",
     "text": [
      "<type 'dict'>\n",
      "{'german': 'deutsch', 'spanish': 'spanisch', 'english': 'english'}\n",
      "deutsch\n",
      "['german', 'spanish', 'english']\n",
      "['deutsch', 'spanisch', 'english']\n",
      "3\n"
     ]
    }
   ],
   "source": [
    "### Dictionary (key, val)\n",
    "dictionary = {}\n",
    "dictionary = {'german':'deutsch', 'english':'english'}\n",
    "dictionary['spanish'] = 'spanisch'\n",
    "print type(dictionary)\n",
    "print dictionary\n",
    "print dictionary['german']\n",
    "\n",
    "print dictionary.keys()\n",
    "print dictionary.values()\n",
    "print len(dictionary)"
   ]
  },
  {
   "cell_type": "code",
   "execution_count": 96,
   "metadata": {
    "collapsed": false
   },
   "outputs": [
    {
     "name": "stdout",
     "output_type": "stream",
     "text": [
      "3\n",
      "2\n",
      "1\n"
     ]
    }
   ],
   "source": [
    "# Math\n",
    "print 1+2\n",
    "a = 1\n",
    "a += 1\n",
    "print a\n",
    "a -= 1\n",
    "print a"
   ]
  },
  {
   "cell_type": "code",
   "execution_count": 101,
   "metadata": {
    "collapsed": false
   },
   "outputs": [
    {
     "name": "stdout",
     "output_type": "stream",
     "text": [
      "Congratulations, you failed!\n"
     ]
    }
   ],
   "source": [
    "# Condition\n",
    "\n",
    "grade = 32\n",
    "    \n",
    "if (grade >= 90):\n",
    "    print \"A\"\n",
    "elif (grade >= 80):\n",
    "    print \"B\"\n",
    "elif (grade >= 70):\n",
    "    print \"C\"\n",
    "elif (grade >= 60):\n",
    "    print \"D\"\n",
    "elif (grade >= 50):\n",
    "    print \"E\"\n",
    "else:\n",
    "    print \"Congratulations, you failed!\"\n",
    "    "
   ]
  },
  {
   "cell_type": "code",
   "execution_count": 130,
   "metadata": {
    "collapsed": false
   },
   "outputs": [
    {
     "name": "stdout",
     "output_type": "stream",
     "text": [
      "0\n",
      "1\n",
      "2\n",
      "3\n",
      "4\n",
      "\n",
      "3 5 7 9 11 \n",
      "\n",
      "2 5 7 3 5 \n",
      "\n",
      "7 8 9 10 \n",
      "\n",
      "1 : a\n",
      "2 : b\n",
      "3 : c\n",
      "4 : d\n",
      "\n",
      "\n",
      "1 2 3 4 \n",
      "\n",
      "a b c d \n",
      "\n"
     ]
    }
   ],
   "source": [
    "# Loops\n",
    "\n",
    "for x in range(5):\n",
    "    print x\n",
    "\n",
    "print \"\"\n",
    "# for int y = 3; y < 13; y+= 2\n",
    "for y in range(3, 13, 2):\n",
    "    print y,\n",
    "    \n",
    "myRange = [2,5,7,3,5]\n",
    "\n",
    "print \"\\n\"\n",
    "\n",
    "# for each\n",
    "for z in myRange:\n",
    "    print z,\n",
    "    \n",
    "print \"\\n\"\n",
    "\n",
    "# while\n",
    "x = 7\n",
    "while x < 11:\n",
    "    print x,\n",
    "    x += 1\n",
    "    \n",
    "print \"\\n\"\n",
    "# dict loop\n",
    "crypt = {1:\"a\", 2:\"b\", 3:\"c\", 4:\"d\"}\n",
    "\n",
    "for key, value in crypt.iteritems():\n",
    "    print key, \":\", value\n",
    "    \n",
    "print \"\\n\"\n",
    "\n",
    "for key in crypt:\n",
    "    print key,\n",
    "    \n",
    "print \"\\n\"\n",
    "\n",
    "for value in crypt.values():\n",
    "    print value,\n",
    "    \n",
    "print \"\\n\"\n",
    "\n",
    "    "
   ]
  }
 ],
 "metadata": {
  "kernelspec": {
   "display_name": "Python 2",
   "language": "python",
   "name": "python2"
  },
  "language_info": {
   "codemirror_mode": {
    "name": "ipython",
    "version": 2
   },
   "file_extension": ".py",
   "mimetype": "text/x-python",
   "name": "python",
   "nbconvert_exporter": "python",
   "pygments_lexer": "ipython2",
   "version": "2.7.11"
  }
 },
 "nbformat": 4,
 "nbformat_minor": 0
}
