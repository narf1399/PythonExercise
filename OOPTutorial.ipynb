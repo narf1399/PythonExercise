{
 "cells": [
  {
   "cell_type": "markdown",
   "metadata": {},
   "source": [
    "Exercises to learn OOP Python"
   ]
  },
  {
   "cell_type": "code",
   "execution_count": 5,
   "metadata": {
    "collapsed": false
   },
   "outputs": [
    {
     "name": "stdout",
     "output_type": "stream",
     "text": [
      "Your balance is 1000\n",
      "Your balance is now negative.\n",
      "Your balance is -1000\n",
      "Your balance is 9999000\n"
     ]
    }
   ],
   "source": [
    "class Customer:\n",
    "    \n",
    "    def __init__(self, name, balance):\n",
    "        self.name = name\n",
    "        self.balance = balance\n",
    "    \n",
    "    def withdraw(self, amount):\n",
    "        if (amount > self.balance):\n",
    "            print \"Your balance is now negative.\"\n",
    "        self.balance -= amount\n",
    "    \n",
    "    def deposit(self, amount):\n",
    "        self.balance += amount\n",
    "        \n",
    "    def showBalance(self):\n",
    "        print \"Your balance is %d\" % self.balance\n",
    "        \n",
    "\n",
    "myCustomer = Customer(\"Tim\", 1000)\n",
    "myCustomer.showBalance()\n",
    "myCustomer.withdraw(2000)\n",
    "myCustomer.showBalance()\n",
    "myCustomer.deposit(10000000)\n",
    "myCustomer.showBalance()\n",
    "    "
   ]
  }
 ],
 "metadata": {
  "kernelspec": {
   "display_name": "Python 2",
   "language": "python",
   "name": "python2"
  },
  "language_info": {
   "codemirror_mode": {
    "name": "ipython",
    "version": 2
   },
   "file_extension": ".py",
   "mimetype": "text/x-python",
   "name": "python",
   "nbconvert_exporter": "python",
   "pygments_lexer": "ipython2",
   "version": "2.7.11"
  }
 },
 "nbformat": 4,
 "nbformat_minor": 0
}
